{
 "cells": [
  {
   "cell_type": "code",
   "execution_count": 15,
   "id": "ce153e27-70c0-4bd1-99e7-d76f05fddfaa",
   "metadata": {},
   "outputs": [
    {
     "data": {
      "text/html": [
       "\n",
       "            <div>\n",
       "                <p><b>SparkSession - in-memory</b></p>\n",
       "                \n",
       "        <div>\n",
       "            <p><b>SparkContext</b></p>\n",
       "\n",
       "            <p><a href=\"http://no-elvo:4041\">Spark UI</a></p>\n",
       "\n",
       "            <dl>\n",
       "              <dt>Version</dt>\n",
       "                <dd><code>v3.5.1</code></dd>\n",
       "              <dt>Master</dt>\n",
       "                <dd><code>local[*]</code></dd>\n",
       "              <dt>AppName</dt>\n",
       "                <dd><code>Practice</code></dd>\n",
       "            </dl>\n",
       "        </div>\n",
       "        \n",
       "            </div>\n",
       "        "
      ],
      "text/plain": [
       "<pyspark.sql.session.SparkSession at 0x236b1168b90>"
      ]
     },
     "execution_count": 15,
     "metadata": {},
     "output_type": "execute_result"
    }
   ],
   "source": [
    "from pyspark.sql import SparkSession\n",
    "spark = SparkSession.builder.master(\"local[*]\").appName(\"Practice\").getOrCreate()\n",
    "spark"
   ]
  },
  {
   "cell_type": "code",
   "execution_count": 16,
   "id": "0f7e19f1-fb7c-40a6-b033-8b45c25c2c9f",
   "metadata": {},
   "outputs": [
    {
     "data": {
      "text/plain": [
       "[('_id', 'string'),\n",
       " ('Serial', 'int'),\n",
       " ('FireCategory', 'string'),\n",
       " ('FireYear', 'int'),\n",
       " ('Area', 'string'),\n",
       " ('DistrictName', 'string'),\n",
       " ('UnitName', 'string'),\n",
       " ('FullFireNumber', 'string'),\n",
       " ('FireName', 'string'),\n",
       " ('Size_class', 'string'),\n",
       " ('EstTotalAcres', 'double'),\n",
       " ('Protected_Acres', 'double'),\n",
       " ('HumanOrLightning', 'string'),\n",
       " ('CauseBy', 'string'),\n",
       " ('GeneralCause', 'string'),\n",
       " ('SpecificCause', 'string'),\n",
       " ('Cause_Comments', 'string'),\n",
       " ('Lat_DD', 'string'),\n",
       " ('Long_DD', 'double'),\n",
       " ('LatLongDD', 'string'),\n",
       " ('FO_LandOwnType', 'string'),\n",
       " ('Twn', 'string'),\n",
       " ('Rng', 'string'),\n",
       " ('Sec', 'string'),\n",
       " ('Subdiv', 'string'),\n",
       " ('LandmarkLocation', 'string'),\n",
       " ('County', 'string'),\n",
       " ('RegUseZone', 'string'),\n",
       " ('RegUseRestriction', 'string'),\n",
       " ('Industrial_Restriction', 'string'),\n",
       " ('Ign_DateTime', 'string'),\n",
       " ('ReportDateTime', 'string'),\n",
       " ('Discover_DateTime', 'string'),\n",
       " ('Control_DateTime', 'string'),\n",
       " ('CreationDate', 'string'),\n",
       " ('ModifiedDate', 'string'),\n",
       " ('DistrictCode', 'string'),\n",
       " ('UnitCode', 'int'),\n",
       " ('DistFireNumber', 'string')]"
      ]
     },
     "execution_count": 16,
     "metadata": {},
     "output_type": "execute_result"
    }
   ],
   "source": [
    "fire_occurence = spark.read.csv(\"FireOccurence.data.csv\", header=True, inferSchema=True)\n",
    "fire_occurence\n",
    "type(fire_occurence)\n",
    "fire_occurence.head(5000)\n",
    "fire_occurence.dtypes\n",
    "# fire_occurence.printSchema()"
   ]
  },
  {
   "cell_type": "code",
   "execution_count": 17,
   "id": "cd6567ea-fe0e-4522-b1d1-85e1f2d2bcca",
   "metadata": {},
   "outputs": [
    {
     "name": "stdout",
     "output_type": "stream",
     "text": [
      "+--------------------+----------+--------------------+--------------------+--------------------+\n",
      "|       SpecificCause|Size_class|   Discover_DateTime|    Control_DateTime|      Cause_Comments|\n",
      "+--------------------+----------+--------------------+--------------------+--------------------+\n",
      "|Hot Ashes (Dumpin...|         A|10/26/2008 12:00:...|10/26/2008 12:30:...|Dumping of Woodst...|\n",
      "|Burning Vehicle o...|         A|08/17/2009 11:50:...|08/17/2009 12:16:...|Car fire that spr...|\n",
      "|           Lightning|         A|07/15/2009 05:30:...|07/15/2009 06:15:...|    Lightning strike|\n",
      "|    Rubbish Disposal|         A|09/25/2016 11:23:...|09/25/2016 02:55:...|Party fire at roc...|\n",
      "|Other - Arson Rel...|         A|08/03/2019 04:35:...|08/07/2019 12:40:...|Juvenile admitted...|\n",
      "|Campfire Not Exti...|         A|06/19/2019 10:48:...|06/22/2019 11:00:...|  Transient Campfire|\n",
      "|   Inadequate Mop Up|         A|04/29/2020 05:52:...|05/03/2020 12:00:...|   Escaped Burn Pile|\n",
      "|Industrial- Rotar...|         A|08/05/2007 01:51:...|08/05/2007 02:54:...|Grinding on a met...|\n",
      "|           Lightning|         A|09/01/2007 07:00:...|09/03/2007 06:00:...|LIGHTNING STRUCK ...|\n",
      "|Other - Recreatio...|         B|04/24/2009 08:30:...|05/01/2009 06:00:...|Random act - igni...|\n",
      "|Other - Burning R...|         A|10/04/2007 12:15:...|10/05/2007 04:00:...|Failed to obtain ...|\n",
      "|Burning Vehicle o...|         A|08/11/2008 02:27:...|08/11/2008 03:10:...|Riding lawnmower ...|\n",
      "|Other - Smoker Re...|         A|08/15/2008 02:55:...|08/15/2008 03:12:...|a pick-up load of...|\n",
      "|          Unattended|         A|08/24/2009 04:15:...|08/24/2009 05:00:...|Burning paper, re...|\n",
      "|Powerlines - prio...|         A|08/06/2008 09:20:...|08/09/2008 10:49:...|Green tree into p...|\n",
      "|           Lightning|         A|08/01/2009 06:08:...|08/01/2009 08:09:...|Lightning struck ...|\n",
      "|Other - Arson Rel...|         A|10/11/2008 11:52:...|10/11/2008 01:25:...|Slash Pile Along ...|\n",
      "|           Lightning|         A|06/03/2009 11:00:...|06/03/2009 05:00:...|           Lightning|\n",
      "|Carbon Sparks fro...|         A|09/04/2008 07:01:...|09/04/2008 07:30:...|Sparks/flames wit...|\n",
      "|           Lightning|         A|08/08/2008 08:54:...|08/08/2008 10:45:...|Lightning struck ...|\n",
      "+--------------------+----------+--------------------+--------------------+--------------------+\n",
      "only showing top 20 rows\n",
      "\n"
     ]
    }
   ],
   "source": [
    "fire_occurence.select(\"SpecificCause\", \"Size_class\", \"Discover_DateTime\", \"Control_DateTime\", \"Cause_Comments\").where(fire_occurence.Cause_Comments != \"NULL\" ).show()"
   ]
  },
  {
   "cell_type": "code",
   "execution_count": 18,
   "id": "0acce37b",
   "metadata": {},
   "outputs": [
    {
     "name": "stdout",
     "output_type": "stream",
     "text": [
      "+-------+--------------------+------------------+------------+------------------+-----+------------+--------+--------------+------------------+----------+-----------------+------------------+----------------+---------+------------+--------------+--------------------+--------------------+-------------------+--------------------+--------------+------------------+------------------+------------------+------+--------------------+-------------+------------------+-----------------+----------------------+--------------------+--------------------+--------------------+--------------------+--------------------+--------------------+--------------------+-----------------+------------------+\n",
      "|summary|                 _id|            Serial|FireCategory|          FireYear| Area|DistrictName|UnitName|FullFireNumber|          FireName|Size_class|    EstTotalAcres|   Protected_Acres|HumanOrLightning|  CauseBy|GeneralCause| SpecificCause|      Cause_Comments|              Lat_DD|            Long_DD|           LatLongDD|FO_LandOwnType|               Twn|               Rng|               Sec|Subdiv|    LandmarkLocation|       County|        RegUseZone|RegUseRestriction|Industrial_Restriction|        Ign_DateTime|      ReportDateTime|   Discover_DateTime|    Control_DateTime|        CreationDate|        ModifiedDate|        DistrictCode|         UnitCode|    DistFireNumber|\n",
      "+-------+--------------------+------------------+------------+------------------+-----+------------+--------+--------------+------------------+----------+-----------------+------------------+----------------+---------+------------+--------------+--------------------+--------------------+-------------------+--------------------+--------------+------------------+------------------+------------------+------+--------------------+-------------+------------------+-----------------+----------------------+--------------------+--------------------+--------------------+--------------------+--------------------+--------------------+--------------------+-----------------+------------------+\n",
      "|  count|               23408|             23408|       23408|             23408|23408|       23408|   23408|         23408|             23408|     23408|            23408|             23408|           23408|    23355|       23408|         23259|                9872|               23408|              23408|               23408|         23408|             23400|             23397|             23408| 23393|               22130|        23408|             23401|            23398|                 23398|               23393|               23408|               23392|               23392|               23405|               23408|               23408|            23408|             23408|\n",
      "|   mean|                NULL| 90338.93967874232|        NULL|2010.7758458646617| NULL|        NULL|    NULL|          NULL|            7913.1|      NULL|265.2797077922052|59.096599453179195|            NULL|     NULL|        NULL|          NULL|            117746.0|   43.71864336096028|-122.25301812628152|          -122.71502|          NULL|              17.7| 8.333333333333334|18.571495706412612|   4.0|             3399.75|         NULL|             623.0|             NULL|                  NULL|                NULL|                NULL|                NULL|                NULL|                NULL|                NULL|   77.72606485239459|779.0559210526316|117.04410754165951|\n",
      "| stddev|                NULL|20870.966750878717|        NULL| 6.729174555749643| NULL|        NULL|    NULL|          NULL|27440.724126813253|      NULL|6764.231081009827|1849.3444579049467|            NULL|     NULL|        NULL|          NULL|  203353.43967830983|  1.2272750997201947|  2.019451481871002|                NULL|          NULL|3.7727090178455764|1.8149704259460604|10.437748763277094|  NULL|   4418.576948520869|         NULL|469.39044541181534|             NULL|                  NULL|                NULL|                NULL|                NULL|                NULL|                NULL|                NULL|   14.59412655048523|146.3597399783689| 150.6879104499658|\n",
      "|    min|6641cd880394ac6d9...|             57485|        STAT|              2000|  EOA|     Astoria| Astoria|  00-511001-01|    \"\"\"G\"\" STREET\"|         A|              0.0|               0.0|           Human|Fisherman|       Arson|  Agricultural|\"\"\"TNT' mini cali...| most likely Hots...|         -124.98361|          -122.71502|   Agriculture|               01N|               01E|                 0|     4|$ Miles West of R...|Ashland Creek|                 0| Absolute Closure|  Does Not Apply - ...|01/01/2013 01:00:...|01/02/2005 03:54:...|01/02/2005 03:45:...|01/02/2005 06:24:...|01/02/2003 11:41:...|01/02/2002 01:11:...|12/08/2020 01:16:...|               71|                 1|\n",
      "|    max|6641cd8b0394ac6d9...|            134021|        STAT|              2022|  SOA|Western Lane| Wallowa|  22-982049-22|         war eagle|         G|         499945.0|          154570.0|    Under Invest|Transient|Under Invest|Worker Smoking|young adult party...|              46.235|           42.21254|POINT (-124.98361...|          USFS|               S25|                9W|                 9|  SWSW|        ½ W Coos Bay|      Yamhill|               yes|      Unspecified|           Unspecified|Lvl 4 Complete Sh...|12/28/2020 08:45:...|12/28/2020 08:30:...|12/31/2020 08:00:...|12/31/2020 12:00:...|12/31/2020 10:11:...|                  99|              991|               C30|\n",
      "+-------+--------------------+------------------+------------+------------------+-----+------------+--------+--------------+------------------+----------+-----------------+------------------+----------------+---------+------------+--------------+--------------------+--------------------+-------------------+--------------------+--------------+------------------+------------------+------------------+------+--------------------+-------------+------------------+-----------------+----------------------+--------------------+--------------------+--------------------+--------------------+--------------------+--------------------+--------------------+-----------------+------------------+\n",
      "\n"
     ]
    }
   ],
   "source": [
    "fire_occurence.describe().show()"
   ]
  },
  {
   "cell_type": "code",
   "execution_count": 19,
   "id": "45495509",
   "metadata": {},
   "outputs": [],
   "source": [
    "fire_occurence = fire_occurence.withColumn('Area_yg_terbakar', (fire_occurence.EstTotalAcres)-(fire_occurence.Protected_Acres))"
   ]
  },
  {
   "cell_type": "code",
   "execution_count": 20,
   "id": "8d0d2d6f",
   "metadata": {},
   "outputs": [
    {
     "name": "stdout",
     "output_type": "stream",
     "text": [
      "+--------------------+-------------+---------------+------------------+\n",
      "|             CauseBy|EstTotalAcres|Protected_Acres|  Area_yg_terbakar|\n",
      "+--------------------+-------------+---------------+------------------+\n",
      "|       Recreationist|       5521.0|         1676.0|            3845.0|\n",
      "|           Lightning|         0.25|            0.0|              0.25|\n",
      "|           Lightning|         79.6|           30.0|49.599999999999994|\n",
      "|            Motorist|         0.02|           0.01|              0.01|\n",
      "|Other-Landowner R...|         0.25|            0.0|              0.25|\n",
      "|        Other-Public|         0.02|            0.0|              0.02|\n",
      "|     Ruralist-Paying|          4.6|           0.18|              4.42|\n",
      "|           Lightning|         25.0|            0.0|              25.0|\n",
      "|            Motorist|         0.01|            0.0|              0.01|\n",
      "|        Other-Public|         0.01|            0.0|              0.01|\n",
      "| Ruralist-Non-Paying|          4.0|           0.01|              3.99|\n",
      "|Other Forest Mgt....|        100.0|           25.0|              75.0|\n",
      "|        Other-Public|          0.5|            0.0|               0.5|\n",
      "| Ruralist-Non-Paying|         0.25|            0.0|              0.25|\n",
      "|            Motorist|         0.04|            0.0|              0.04|\n",
      "|       Recreationist|        18.35|           18.0|0.3500000000000014|\n",
      "|       Recreationist|         0.01|            0.0|              0.01|\n",
      "|       Recreationist|         0.01|            0.0|              0.01|\n",
      "|      Public Utility|         0.01|            0.0|              0.01|\n",
      "|            Motorist|         0.01|            0.0|              0.01|\n",
      "+--------------------+-------------+---------------+------------------+\n",
      "only showing top 20 rows\n",
      "\n"
     ]
    }
   ],
   "source": [
    "fire_occurence.select(\"CauseBy\", \"EstTotalAcres\", \"Protected_Acres\", \"Area_yg_terbakar\").where(fire_occurence.Area_yg_terbakar != 0.0).show()"
   ]
  },
  {
   "cell_type": "code",
   "execution_count": 21,
   "id": "1c049162",
   "metadata": {},
   "outputs": [],
   "source": [
    "fire_occurence = fire_occurence.drop(\"Serial\")"
   ]
  },
  {
   "cell_type": "code",
   "execution_count": 22,
   "id": "35758c10",
   "metadata": {},
   "outputs": [
    {
     "name": "stdout",
     "output_type": "stream",
     "text": [
      "+--------------------+------------+--------+----+--------------------+-------------+--------------+--------------------+----------+-------------+---------------+----------------+---------------+--------------+--------------------+--------------------+--------+----------+--------------------+-----------------+---+----+---+------+--------------------+---------+----------+--------------------+----------------------+--------------------+--------------------+--------------------+--------------------+--------------------+--------------------+------------+--------+--------------+----------------+\n",
      "|                 _id|FireCategory|FireYear|Area|        DistrictName|     UnitName|FullFireNumber|            FireName|Size_class|EstTotalAcres|Protected_Acres|HumanOrLightning|        CauseBy|  GeneralCause|       SpecificCause|      Cause_Comments|  Lat_DD|   Long_DD|           LatLongDD|   FO_LandOwnType|Twn| Rng|Sec|Subdiv|    LandmarkLocation|   County|RegUseZone|   RegUseRestriction|Industrial_Restriction|        Ign_DateTime|      ReportDateTime|   Discover_DateTime|    Control_DateTime|        CreationDate|        ModifiedDate|DistrictCode|UnitCode|DistFireNumber|Area_yg_terbakar|\n",
      "+--------------------+------------+--------+----+--------------------+-------------+--------------+--------------------+----------+-------------+---------------+----------------+---------------+--------------+--------------------+--------------------+--------+----------+--------------------+-----------------+---+----+---+------+--------------------+---------+----------+--------------------+----------------------+--------------------+--------------------+--------------------+--------------------+--------------------+--------------------+------------+--------+--------------+----------------+\n",
      "|6641cd880394ac6d9...|        STAT|    2000| EOA|      Central Oregon|     John Day|  00-952011-01|        Slick Ear #2|         B|         0.75|           0.75|       Lightning|      Lightning|     Lightning|           Lightning|                NULL|44.91519|-119.28863|POINT (-119.28863...|              BLM|07S| 29E| 31|  NESW|  11 MI SE Ritter LO|    Grant|       EC2|     Reg Use Closure|  Does Not Apply - ...|07/18/2000 07:00:...|07/19/2000 01:20:...|07/19/2000 01:15:...|07/20/2000 12:50:...|07/20/2000 09:13:...|11/14/2000 09:16:...|          95|     952|            11|             0.0|\n",
      "|6641cd880394ac6d9...|        STAT|    2000| EOA|    Northeast Oregon|    La Grande|  00-971024-01|             Woodley|         C|         80.0|           80.0|       Lightning|      Lightning|     Lightning|           Lightning|                NULL|45.08509| -118.3344|POINT (-118.3344 ...|    Other Private|05S| 36E| 32|  NESW|         Woodley C.G|    Union|       NE3|     Reg Use Closure|  Does Not Apply - ...|08/24/2000 05:30:...|08/24/2000 01:07:...|08/24/2000 01:07:...|09/01/2000 09:30:...|08/29/2000 03:59:...|12/21/2000 04:22:...|          97|     971|            24|             0.0|\n",
      "|6641cd880394ac6d9...|        STAT|    2001| SOA|    Southwest Oregon|  Grants Pass|  01-712133-02|       QUEENS BRANCH|         A|          0.1|            0.1|           Human|       Motorist|       Smoking|Other - Smoker Re...|                NULL|42.53671|-123.21215|POINT (-123.21215...|              BLM|35S| 04W|  7|  SESE|     7 N ROGUE RIVER|  Jackson|       SW3|     Reg Use Closure|  Lvl 3 Restricted ...|08/10/2001 05:40:...|08/10/2001 05:47:...|08/10/2001 05:45:...|08/10/2001 06:30:...|08/10/2001 06:42:...|08/17/2001 11:45:...|          71|     712|           133|             0.0|\n",
      "|6641cd880394ac6d9...|        STAT|    2002| NOA|         West Oregon|    Philomath|  02-551001-03|                WREN|         A|         0.01|           0.01|           Human|       Motorist|    Recreation|           Fireworks|                NULL|44.58709|-123.42779|POINT (-123.42779...|            State|11S| 06W| 28|  SENW|        Kings Valley|   Benton|       W01|Closed Fire Seaso...|  Lvl 1 Fire Season...|07/06/2002 01:01:...|07/06/2002 01:04:...|07/06/2002 01:02:...|07/06/2002 01:07:...|07/07/2002 09:16:...|07/28/2002 10:08:...|          55|     551|             1|             0.0|\n",
      "|6641cd880394ac6d9...|        STAT|    2003| NOA|         West Oregon|       Dallas|  03-552013-04|        Ritner Creek|         A|         0.01|           0.01|       Lightning|      Lightning|     Lightning|           Lightning|                NULL|44.74026|-123.49811|POINT (-123.49811...|       Industrial|09S| 07W| 36|  SWSW|   Ritner Creek Park|     Polk|       WO1|     Reg Use Closure|  Lvl 3 Restricted ...|08/22/2003 04:00:...|08/22/2003 05:00:...|08/22/2003 05:00:...|08/22/2003 09:30:...|08/22/2003 04:12:...|09/04/2003 09:39:...|          55|     552|            13|             0.0|\n",
      "|6641cd880394ac6d9...|        STAT|    2003| EOA|    Northeast Oregon|      Wallowa|  03-974016-04|        Big Tamarack|         A|         0.01|           0.01|       Lightning|      Lightning|     Lightning|           Lightning|                NULL|45.63942|-117.40483|POINT (-117.40483...|       Industrial|02N| 43E| 23|  NWSE|          Tope Creek|  Wallowa|       NE2|     Reg Use Closure|  Does Not Apply - ...|08/22/2003 06:00:...|08/23/2003 09:24:...|08/23/2003 09:24:...|08/23/2003 12:40:...|08/25/2003 02:16:...|09/16/2004 03:07:...|          97|     974|            16|             0.0|\n",
      "|6641cd880394ac6d9...|        STAT|    2003| EOA|Walker Range - WRFPA|     Crescent|  03-991228-04|           COIDC 918|         A|          0.0|            0.0|           Human|   Other-Public|Debris Burning|Other - Burning R...|                NULL|43.52418|-121.95545|POINT (-121.95545...|Rural Residential|24S| 06E|  1|  SENW|      12 W GILCHRIST|  Klamath|       WC2|     Reg Use Closure|  Does Not Apply - ...|08/30/2003 02:20:...|08/30/2003 02:37:...|08/30/2003 02:30:...|08/30/2003 02:41:...|09/01/2003 03:24:...|09/12/2003 03:43:...|          99|     991|           228|             0.0|\n",
      "|6641cd880394ac6d9...|        STAT|    2005| NOA|             Astoria|      Astoria|  05-521027-06|        RAYMOND ROAD|         A|         0.01|           0.01|           Human| Public Utility| Equipment Use|Powerlines - prio...|                NULL| 46.0765|-123.70566|POINT (-123.70566...|Rural Residential|07N| 08W| 17|  SESW|      HWY 202, MP 12|  Clatsop|       NW2|     Reg Use Closure|  Lvl 1 Fire Season...|09/18/2005 03:00:...|09/18/2005 03:20:...|09/18/2005 03:05:...|09/18/2005 04:30:...|09/21/2005 10:41:...|09/25/2005 01:42:...|          52|     521|            27|             0.0|\n",
      "|6641cd880394ac6d9...|        STAT|    2005| EOA|        Klamath-Lake|      Klamath|  05-981072-06|               BLISS|         A|         0.01|           0.01|           Human|       Motorist| Miscellaneous|Other - Miscellan...|                NULL| 42.3795|-121.53266|POINT (-121.53266...|    Other Private|37S|11VE|  9|  SWNE|            BLISS RD|  Klamath|       KF1|     Reg Use Closure|  Does Not Apply - ...|08/26/2005 11:00:...|08/26/2005 11:29:...|08/26/2005 11:20:...|08/26/2005 11:55:...|08/29/2005 12:20:...|12/09/2005 09:50:...|          98|     981|            72|             0.0|\n",
      "|6641cd880394ac6d9...|        STAT|    2007| NOA|             Astoria|      Astoria|  07-521047-07|        North Canine|         B|          3.0|            3.0|           Human|  Recreationist|    Recreation|           Fireworks|                NULL|46.07361|-123.68083|POINT (-123.68083...|       Industrial|07N| 08W| 21|  NWSE|        7N 8W sec 21|  Clatsop|       NW1|     Reg Use Closure|  Lvl 1 Fire Season...|06/23/2007 12:00:...|06/23/2007 05:47:...|06/23/2007 05:45:...|06/23/2007 11:00:...|06/27/2007 10:29:...|08/06/2007 11:39:...|          52|     521|            47|             0.0|\n",
      "|6641cd880394ac6d9...|        STAT|    2007| EOA|        Klamath-Lake|      Klamath|  07-981114-08|          LONG CREEK|         A|          0.1|            0.1|       Lightning|      Lightning|     Lightning|           Lightning|                NULL|42.80436|-121.20103|POINT (-121.20103...|       Industrial|32S| 13E| 17|  NWNE|                NULL|  Klamath|       KF1|     Reg Use Closure|  Does Not Apply - ...|09/01/2007 02:00:...|09/01/2007 02:25:...|09/01/2007 02:25:...|09/01/2007 03:00:...|09/03/2007 12:00:...|09/18/2007 10:56:...|          98|     981|           114|             0.0|\n",
      "|6641cd880394ac6d9...|        STAT|    2008| SOA|    Southwest Oregon|      Medford|  08-711147-09|7498 Upper Applegate|         A|         0.01|           0.01|           Human|Ruralist-Paying| Miscellaneous|Hot Ashes (Dumpin...|Dumping of Woodst...|42.14361|-123.07278|POINT (-123.07278...|              BLM|39S| 03W| 28|  SWSW|13 Mi SW of Jacks...|  Jackson|       SW2|Outside Closed Fi...|  Outside Closed Fi...|10/26/2008 11:45:...|10/26/2008 12:01:...|10/26/2008 12:00:...|10/26/2008 12:30:...|10/27/2008 12:00:...|10/28/2008 01:49:...|          71|     711|           147|             0.0|\n",
      "|6641cd880394ac6d9...|        STAT|    2008| SOA|      Douglas - DFPA|   DFPA North|  08-731091-09|            Mehl Cr.|         B|          1.5|            1.5|       Lightning|      Lightning|     Lightning|           Lightning|                NULL|43.56694|-123.58361|POINT (-123.58361...|  Small Woodlands|23S| 08W| 12|  NWSW|  Smith Ferry Rapids|  Douglas|       DG1|     Reg Use Closure|  Lvl 3 Restricted ...|08/17/2008 09:00:...|08/17/2008 09:15:...|08/17/2008 09:10:...|08/18/2008 03:00:...|08/19/2008 12:00:...|08/27/2008 03:21:...|          73|     731|            91|             0.0|\n",
      "|6641cd880394ac6d9...|        STAT|    2008| EOA|    Northeast Oregon|      Wallowa|  08-974027-09|              Corkey|         A|         0.01|           0.01|           Human|         Hunter| Miscellaneous|        Warming Fire|                NULL|   45.68|  -117.715|POINT (-117.715 4...|       Industrial|02N| 41E|  5|  NENE|                NULL|  Wallowa|       NE2|Closed Fire Seaso...|  Lvl 1 Fire Season...|10/05/2008 06:30:...|10/05/2008 12:04:...|10/05/2008 11:30:...|10/05/2008 01:46:...|10/06/2008 12:00:...|10/19/2008 07:27:...|          97|     974|            27|             0.0|\n",
      "|6641cd880394ac6d9...|        STAT|    2009| SOA|    Southwest Oregon|  Grants Pass|  09-712231-10|           I-5 MP 75|         A|          0.1|            0.1|           Human|       Motorist| Equipment Use|Carbon Sparks fro...|                NULL|42.68111|  -123.385|POINT (-123.385 4...|            State|33S| 06W| 23|  SWSW|    4 SW of Glendale|Josephine|       SW3|     Reg Use Closure|  Lvl 3 Restricted ...|09/03/2009 03:30:...|09/03/2009 03:40:...|09/03/2009 03:40:...|09/06/2009 12:55:...|09/03/2009 12:00:...|09/10/2009 05:43:...|          71|     712|           231|             0.0|\n",
      "|6641cd880394ac6d9...|        STAT|    2009| SOA|      Douglas - DFPA|   DFPA South|  09-732058-10|         Boomer Hill|         A|         0.25|           0.25|       Lightning|      Lightning|     Lightning|           Lightning|                NULL|42.97972|-123.41917|POINT (-123.41917...|              BLM|30S| 06W|  9|  SENW|         Boomer Hill|  Douglas|       DG1|     Reg Use Closure|  Lvl 3 Restricted ...|08/01/2009 07:55:...|08/01/2009 07:59:...|08/01/2009 07:58:...|08/02/2009 09:00:...|08/04/2009 12:00:...|08/04/2009 06:31:...|          73|     732|            58|             0.0|\n",
      "|6641cd880394ac6d9...|        STAT|    2009| SOA|      Douglas - DFPA| DFPA Central|  09-733128-10|         Kelly Creek|         A|         0.01|           0.01|       Lightning|      Lightning|     Lightning|           Lightning|                NULL|43.40556| -123.0025|POINT (-123.0025 ...|       Industrial|25S| 03W| 12|  SESW|                NULL|  Douglas|       DG1|     Reg Use Closure|  Lvl 1 Fire Season...|09/13/2009 02:00:...|09/13/2009 07:28:...|09/13/2009 07:28:...|09/13/2009 08:30:...|09/13/2009 12:00:...|09/24/2009 12:34:...|          73|     733|           128|             0.0|\n",
      "|6641cd880394ac6d9...|        STAT|    2009| SOA|       South Cascade| Eastern Lane|  09-771076-10|     Pengra Car Fire|         A|          0.1|            0.1|           Human|       Motorist| Equipment Use|Burning Vehicle o...|Car fire that spr...|43.92972|-122.80972|POINT (-122.80972...|       Industrial|19S| 01W|  9|  NESE| Pengra Boat Landing|     Lane|       EL1|     Reg Use Closure|  Lvl 2 Limited Shu...|08/17/2009 11:48:...|08/17/2009 11:52:...|08/17/2009 11:50:...|08/17/2009 12:16:...|08/17/2009 12:00:...|10/06/2009 02:10:...|          77|     771|            76|             0.0|\n",
      "|6641cd880394ac6d9...|        STAT|    2009| SOA|       South Cascade|   Sweet Home|  09-772092-10|              GP 632|         A|         0.01|           0.01|       Lightning|      Lightning|     Lightning|           Lightning|    Lightning strike|44.47194|-122.61111|POINT (-122.61111...|       Industrial|13S| 02E|  6|  NENW|5 miles NE of Swe...|     Linn|       LN1|     Reg Use Closure|  Lvl 1 Fire Season...|07/12/2009 07:00:...|07/15/2009 05:30:...|07/15/2009 05:30:...|07/15/2009 06:15:...|09/15/2009 12:00:...|09/28/2009 04:49:...|          77|     772|            92|             0.0|\n",
      "|6641cd880394ac6d9...|        STAT|    2010| NOA|        Forest Grove|Columbia City|  10-532014-11|       Smith Road #1|         A|         0.01|           0.01|           Human|  Recreationist|    Recreation|    Rubbish Disposal|                NULL|45.89111|-122.84972|POINT (-122.84972...|           County|05N| 01W| 30|  SENE|                NULL| Columbia|       NW3|     Reg Use Closure|  Lvl 1 Fire Season...|08/09/2010 06:00:...|08/09/2010 06:17:...|08/09/2010 06:15:...|08/09/2010 06:30:...|08/09/2010 12:00:...|08/09/2010 11:44:...|          53|     532|            14|             0.0|\n",
      "+--------------------+------------+--------+----+--------------------+-------------+--------------+--------------------+----------+-------------+---------------+----------------+---------------+--------------+--------------------+--------------------+--------+----------+--------------------+-----------------+---+----+---+------+--------------------+---------+----------+--------------------+----------------------+--------------------+--------------------+--------------------+--------------------+--------------------+--------------------+------------+--------+--------------+----------------+\n",
      "only showing top 20 rows\n",
      "\n"
     ]
    }
   ],
   "source": [
    "fire_occurence.show()"
   ]
  },
  {
   "cell_type": "code",
   "execution_count": 23,
   "id": "f54f6d65",
   "metadata": {},
   "outputs": [],
   "source": [
    "fire_occurence = fire_occurence.withColumnRenamed(\"Area_yg_terbakar\", \"BurnedArea\")"
   ]
  },
  {
   "cell_type": "code",
   "execution_count": 24,
   "id": "a6ed2c72",
   "metadata": {},
   "outputs": [
    {
     "name": "stdout",
     "output_type": "stream",
     "text": [
      "+--------------------+------------+--------+----+--------------------+-------------+--------------+--------------------+----------+-------------+---------------+----------------+---------------+--------------+--------------------+--------------------+--------+----------+--------------------+-----------------+---+----+---+------+--------------------+---------+----------+--------------------+----------------------+--------------------+--------------------+--------------------+--------------------+--------------------+--------------------+------------+--------+--------------+----------+\n",
      "|                 _id|FireCategory|FireYear|Area|        DistrictName|     UnitName|FullFireNumber|            FireName|Size_class|EstTotalAcres|Protected_Acres|HumanOrLightning|        CauseBy|  GeneralCause|       SpecificCause|      Cause_Comments|  Lat_DD|   Long_DD|           LatLongDD|   FO_LandOwnType|Twn| Rng|Sec|Subdiv|    LandmarkLocation|   County|RegUseZone|   RegUseRestriction|Industrial_Restriction|        Ign_DateTime|      ReportDateTime|   Discover_DateTime|    Control_DateTime|        CreationDate|        ModifiedDate|DistrictCode|UnitCode|DistFireNumber|BurnedArea|\n",
      "+--------------------+------------+--------+----+--------------------+-------------+--------------+--------------------+----------+-------------+---------------+----------------+---------------+--------------+--------------------+--------------------+--------+----------+--------------------+-----------------+---+----+---+------+--------------------+---------+----------+--------------------+----------------------+--------------------+--------------------+--------------------+--------------------+--------------------+--------------------+------------+--------+--------------+----------+\n",
      "|6641cd880394ac6d9...|        STAT|    2000| EOA|      Central Oregon|     John Day|  00-952011-01|        Slick Ear #2|         B|         0.75|           0.75|       Lightning|      Lightning|     Lightning|           Lightning|                NULL|44.91519|-119.28863|POINT (-119.28863...|              BLM|07S| 29E| 31|  NESW|  11 MI SE Ritter LO|    Grant|       EC2|     Reg Use Closure|  Does Not Apply - ...|07/18/2000 07:00:...|07/19/2000 01:20:...|07/19/2000 01:15:...|07/20/2000 12:50:...|07/20/2000 09:13:...|11/14/2000 09:16:...|          95|     952|            11|       0.0|\n",
      "|6641cd880394ac6d9...|        STAT|    2000| EOA|    Northeast Oregon|    La Grande|  00-971024-01|             Woodley|         C|         80.0|           80.0|       Lightning|      Lightning|     Lightning|           Lightning|                NULL|45.08509| -118.3344|POINT (-118.3344 ...|    Other Private|05S| 36E| 32|  NESW|         Woodley C.G|    Union|       NE3|     Reg Use Closure|  Does Not Apply - ...|08/24/2000 05:30:...|08/24/2000 01:07:...|08/24/2000 01:07:...|09/01/2000 09:30:...|08/29/2000 03:59:...|12/21/2000 04:22:...|          97|     971|            24|       0.0|\n",
      "|6641cd880394ac6d9...|        STAT|    2001| SOA|    Southwest Oregon|  Grants Pass|  01-712133-02|       QUEENS BRANCH|         A|          0.1|            0.1|           Human|       Motorist|       Smoking|Other - Smoker Re...|                NULL|42.53671|-123.21215|POINT (-123.21215...|              BLM|35S| 04W|  7|  SESE|     7 N ROGUE RIVER|  Jackson|       SW3|     Reg Use Closure|  Lvl 3 Restricted ...|08/10/2001 05:40:...|08/10/2001 05:47:...|08/10/2001 05:45:...|08/10/2001 06:30:...|08/10/2001 06:42:...|08/17/2001 11:45:...|          71|     712|           133|       0.0|\n",
      "|6641cd880394ac6d9...|        STAT|    2002| NOA|         West Oregon|    Philomath|  02-551001-03|                WREN|         A|         0.01|           0.01|           Human|       Motorist|    Recreation|           Fireworks|                NULL|44.58709|-123.42779|POINT (-123.42779...|            State|11S| 06W| 28|  SENW|        Kings Valley|   Benton|       W01|Closed Fire Seaso...|  Lvl 1 Fire Season...|07/06/2002 01:01:...|07/06/2002 01:04:...|07/06/2002 01:02:...|07/06/2002 01:07:...|07/07/2002 09:16:...|07/28/2002 10:08:...|          55|     551|             1|       0.0|\n",
      "|6641cd880394ac6d9...|        STAT|    2003| NOA|         West Oregon|       Dallas|  03-552013-04|        Ritner Creek|         A|         0.01|           0.01|       Lightning|      Lightning|     Lightning|           Lightning|                NULL|44.74026|-123.49811|POINT (-123.49811...|       Industrial|09S| 07W| 36|  SWSW|   Ritner Creek Park|     Polk|       WO1|     Reg Use Closure|  Lvl 3 Restricted ...|08/22/2003 04:00:...|08/22/2003 05:00:...|08/22/2003 05:00:...|08/22/2003 09:30:...|08/22/2003 04:12:...|09/04/2003 09:39:...|          55|     552|            13|       0.0|\n",
      "|6641cd880394ac6d9...|        STAT|    2003| EOA|    Northeast Oregon|      Wallowa|  03-974016-04|        Big Tamarack|         A|         0.01|           0.01|       Lightning|      Lightning|     Lightning|           Lightning|                NULL|45.63942|-117.40483|POINT (-117.40483...|       Industrial|02N| 43E| 23|  NWSE|          Tope Creek|  Wallowa|       NE2|     Reg Use Closure|  Does Not Apply - ...|08/22/2003 06:00:...|08/23/2003 09:24:...|08/23/2003 09:24:...|08/23/2003 12:40:...|08/25/2003 02:16:...|09/16/2004 03:07:...|          97|     974|            16|       0.0|\n",
      "|6641cd880394ac6d9...|        STAT|    2003| EOA|Walker Range - WRFPA|     Crescent|  03-991228-04|           COIDC 918|         A|          0.0|            0.0|           Human|   Other-Public|Debris Burning|Other - Burning R...|                NULL|43.52418|-121.95545|POINT (-121.95545...|Rural Residential|24S| 06E|  1|  SENW|      12 W GILCHRIST|  Klamath|       WC2|     Reg Use Closure|  Does Not Apply - ...|08/30/2003 02:20:...|08/30/2003 02:37:...|08/30/2003 02:30:...|08/30/2003 02:41:...|09/01/2003 03:24:...|09/12/2003 03:43:...|          99|     991|           228|       0.0|\n",
      "|6641cd880394ac6d9...|        STAT|    2005| NOA|             Astoria|      Astoria|  05-521027-06|        RAYMOND ROAD|         A|         0.01|           0.01|           Human| Public Utility| Equipment Use|Powerlines - prio...|                NULL| 46.0765|-123.70566|POINT (-123.70566...|Rural Residential|07N| 08W| 17|  SESW|      HWY 202, MP 12|  Clatsop|       NW2|     Reg Use Closure|  Lvl 1 Fire Season...|09/18/2005 03:00:...|09/18/2005 03:20:...|09/18/2005 03:05:...|09/18/2005 04:30:...|09/21/2005 10:41:...|09/25/2005 01:42:...|          52|     521|            27|       0.0|\n",
      "|6641cd880394ac6d9...|        STAT|    2005| EOA|        Klamath-Lake|      Klamath|  05-981072-06|               BLISS|         A|         0.01|           0.01|           Human|       Motorist| Miscellaneous|Other - Miscellan...|                NULL| 42.3795|-121.53266|POINT (-121.53266...|    Other Private|37S|11VE|  9|  SWNE|            BLISS RD|  Klamath|       KF1|     Reg Use Closure|  Does Not Apply - ...|08/26/2005 11:00:...|08/26/2005 11:29:...|08/26/2005 11:20:...|08/26/2005 11:55:...|08/29/2005 12:20:...|12/09/2005 09:50:...|          98|     981|            72|       0.0|\n",
      "|6641cd880394ac6d9...|        STAT|    2007| NOA|             Astoria|      Astoria|  07-521047-07|        North Canine|         B|          3.0|            3.0|           Human|  Recreationist|    Recreation|           Fireworks|                NULL|46.07361|-123.68083|POINT (-123.68083...|       Industrial|07N| 08W| 21|  NWSE|        7N 8W sec 21|  Clatsop|       NW1|     Reg Use Closure|  Lvl 1 Fire Season...|06/23/2007 12:00:...|06/23/2007 05:47:...|06/23/2007 05:45:...|06/23/2007 11:00:...|06/27/2007 10:29:...|08/06/2007 11:39:...|          52|     521|            47|       0.0|\n",
      "|6641cd880394ac6d9...|        STAT|    2007| EOA|        Klamath-Lake|      Klamath|  07-981114-08|          LONG CREEK|         A|          0.1|            0.1|       Lightning|      Lightning|     Lightning|           Lightning|                NULL|42.80436|-121.20103|POINT (-121.20103...|       Industrial|32S| 13E| 17|  NWNE|                NULL|  Klamath|       KF1|     Reg Use Closure|  Does Not Apply - ...|09/01/2007 02:00:...|09/01/2007 02:25:...|09/01/2007 02:25:...|09/01/2007 03:00:...|09/03/2007 12:00:...|09/18/2007 10:56:...|          98|     981|           114|       0.0|\n",
      "|6641cd880394ac6d9...|        STAT|    2008| SOA|    Southwest Oregon|      Medford|  08-711147-09|7498 Upper Applegate|         A|         0.01|           0.01|           Human|Ruralist-Paying| Miscellaneous|Hot Ashes (Dumpin...|Dumping of Woodst...|42.14361|-123.07278|POINT (-123.07278...|              BLM|39S| 03W| 28|  SWSW|13 Mi SW of Jacks...|  Jackson|       SW2|Outside Closed Fi...|  Outside Closed Fi...|10/26/2008 11:45:...|10/26/2008 12:01:...|10/26/2008 12:00:...|10/26/2008 12:30:...|10/27/2008 12:00:...|10/28/2008 01:49:...|          71|     711|           147|       0.0|\n",
      "|6641cd880394ac6d9...|        STAT|    2008| SOA|      Douglas - DFPA|   DFPA North|  08-731091-09|            Mehl Cr.|         B|          1.5|            1.5|       Lightning|      Lightning|     Lightning|           Lightning|                NULL|43.56694|-123.58361|POINT (-123.58361...|  Small Woodlands|23S| 08W| 12|  NWSW|  Smith Ferry Rapids|  Douglas|       DG1|     Reg Use Closure|  Lvl 3 Restricted ...|08/17/2008 09:00:...|08/17/2008 09:15:...|08/17/2008 09:10:...|08/18/2008 03:00:...|08/19/2008 12:00:...|08/27/2008 03:21:...|          73|     731|            91|       0.0|\n",
      "|6641cd880394ac6d9...|        STAT|    2008| EOA|    Northeast Oregon|      Wallowa|  08-974027-09|              Corkey|         A|         0.01|           0.01|           Human|         Hunter| Miscellaneous|        Warming Fire|                NULL|   45.68|  -117.715|POINT (-117.715 4...|       Industrial|02N| 41E|  5|  NENE|                NULL|  Wallowa|       NE2|Closed Fire Seaso...|  Lvl 1 Fire Season...|10/05/2008 06:30:...|10/05/2008 12:04:...|10/05/2008 11:30:...|10/05/2008 01:46:...|10/06/2008 12:00:...|10/19/2008 07:27:...|          97|     974|            27|       0.0|\n",
      "|6641cd880394ac6d9...|        STAT|    2009| SOA|    Southwest Oregon|  Grants Pass|  09-712231-10|           I-5 MP 75|         A|          0.1|            0.1|           Human|       Motorist| Equipment Use|Carbon Sparks fro...|                NULL|42.68111|  -123.385|POINT (-123.385 4...|            State|33S| 06W| 23|  SWSW|    4 SW of Glendale|Josephine|       SW3|     Reg Use Closure|  Lvl 3 Restricted ...|09/03/2009 03:30:...|09/03/2009 03:40:...|09/03/2009 03:40:...|09/06/2009 12:55:...|09/03/2009 12:00:...|09/10/2009 05:43:...|          71|     712|           231|       0.0|\n",
      "|6641cd880394ac6d9...|        STAT|    2009| SOA|      Douglas - DFPA|   DFPA South|  09-732058-10|         Boomer Hill|         A|         0.25|           0.25|       Lightning|      Lightning|     Lightning|           Lightning|                NULL|42.97972|-123.41917|POINT (-123.41917...|              BLM|30S| 06W|  9|  SENW|         Boomer Hill|  Douglas|       DG1|     Reg Use Closure|  Lvl 3 Restricted ...|08/01/2009 07:55:...|08/01/2009 07:59:...|08/01/2009 07:58:...|08/02/2009 09:00:...|08/04/2009 12:00:...|08/04/2009 06:31:...|          73|     732|            58|       0.0|\n",
      "|6641cd880394ac6d9...|        STAT|    2009| SOA|      Douglas - DFPA| DFPA Central|  09-733128-10|         Kelly Creek|         A|         0.01|           0.01|       Lightning|      Lightning|     Lightning|           Lightning|                NULL|43.40556| -123.0025|POINT (-123.0025 ...|       Industrial|25S| 03W| 12|  SESW|                NULL|  Douglas|       DG1|     Reg Use Closure|  Lvl 1 Fire Season...|09/13/2009 02:00:...|09/13/2009 07:28:...|09/13/2009 07:28:...|09/13/2009 08:30:...|09/13/2009 12:00:...|09/24/2009 12:34:...|          73|     733|           128|       0.0|\n",
      "|6641cd880394ac6d9...|        STAT|    2009| SOA|       South Cascade| Eastern Lane|  09-771076-10|     Pengra Car Fire|         A|          0.1|            0.1|           Human|       Motorist| Equipment Use|Burning Vehicle o...|Car fire that spr...|43.92972|-122.80972|POINT (-122.80972...|       Industrial|19S| 01W|  9|  NESE| Pengra Boat Landing|     Lane|       EL1|     Reg Use Closure|  Lvl 2 Limited Shu...|08/17/2009 11:48:...|08/17/2009 11:52:...|08/17/2009 11:50:...|08/17/2009 12:16:...|08/17/2009 12:00:...|10/06/2009 02:10:...|          77|     771|            76|       0.0|\n",
      "|6641cd880394ac6d9...|        STAT|    2009| SOA|       South Cascade|   Sweet Home|  09-772092-10|              GP 632|         A|         0.01|           0.01|       Lightning|      Lightning|     Lightning|           Lightning|    Lightning strike|44.47194|-122.61111|POINT (-122.61111...|       Industrial|13S| 02E|  6|  NENW|5 miles NE of Swe...|     Linn|       LN1|     Reg Use Closure|  Lvl 1 Fire Season...|07/12/2009 07:00:...|07/15/2009 05:30:...|07/15/2009 05:30:...|07/15/2009 06:15:...|09/15/2009 12:00:...|09/28/2009 04:49:...|          77|     772|            92|       0.0|\n",
      "|6641cd880394ac6d9...|        STAT|    2010| NOA|        Forest Grove|Columbia City|  10-532014-11|       Smith Road #1|         A|         0.01|           0.01|           Human|  Recreationist|    Recreation|    Rubbish Disposal|                NULL|45.89111|-122.84972|POINT (-122.84972...|           County|05N| 01W| 30|  SENE|                NULL| Columbia|       NW3|     Reg Use Closure|  Lvl 1 Fire Season...|08/09/2010 06:00:...|08/09/2010 06:17:...|08/09/2010 06:15:...|08/09/2010 06:30:...|08/09/2010 12:00:...|08/09/2010 11:44:...|          53|     532|            14|       0.0|\n",
      "+--------------------+------------+--------+----+--------------------+-------------+--------------+--------------------+----------+-------------+---------------+----------------+---------------+--------------+--------------------+--------------------+--------+----------+--------------------+-----------------+---+----+---+------+--------------------+---------+----------+--------------------+----------------------+--------------------+--------------------+--------------------+--------------------+--------------------+--------------------+------------+--------+--------------+----------+\n",
      "only showing top 20 rows\n",
      "\n"
     ]
    }
   ],
   "source": [
    "fire_occurence.show()"
   ]
  }
 ],
 "metadata": {
  "kernelspec": {
   "display_name": "Python 3 (ipykernel)",
   "language": "python",
   "name": "python3"
  },
  "language_info": {
   "codemirror_mode": {
    "name": "ipython",
    "version": 3
   },
   "file_extension": ".py",
   "mimetype": "text/x-python",
   "name": "python",
   "nbconvert_exporter": "python",
   "pygments_lexer": "ipython3",
   "version": "3.11.1"
  }
 },
 "nbformat": 4,
 "nbformat_minor": 5
}
