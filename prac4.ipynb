{
 "cells": [
  {
   "cell_type": "code",
   "execution_count": 1,
   "metadata": {},
   "outputs": [
    {
     "data": {
      "text/html": [
       "\n",
       "            <div>\n",
       "                <p><b>SparkSession - in-memory</b></p>\n",
       "                \n",
       "        <div>\n",
       "            <p><b>SparkContext</b></p>\n",
       "\n",
       "            <p><a href=\"http://no-elvo:4040\">Spark UI</a></p>\n",
       "\n",
       "            <dl>\n",
       "              <dt>Version</dt>\n",
       "                <dd><code>v3.5.1</code></dd>\n",
       "              <dt>Master</dt>\n",
       "                <dd><code>local[*]</code></dd>\n",
       "              <dt>AppName</dt>\n",
       "                <dd><code>Practice3</code></dd>\n",
       "            </dl>\n",
       "        </div>\n",
       "        \n",
       "            </div>\n",
       "        "
      ],
      "text/plain": [
       "<pyspark.sql.session.SparkSession at 0x21fcc8ea990>"
      ]
     },
     "execution_count": 1,
     "metadata": {},
     "output_type": "execute_result"
    }
   ],
   "source": [
    "from pyspark.sql import SparkSession\n",
    "spark = SparkSession.builder.master(\"local[*]\").appName(\"Practice3\").getOrCreate()\n",
    "spark"
   ]
  },
  {
   "cell_type": "code",
   "execution_count": 2,
   "metadata": {},
   "outputs": [],
   "source": [
    "fire_incidents = spark.read.csv(\"FireIncidents.data.csv\", header=True, inferSchema=True)\n",
    "# fire_incidents.show(truncate=False)"
   ]
  },
  {
   "cell_type": "code",
   "execution_count": 4,
   "metadata": {},
   "outputs": [
    {
     "name": "stdout",
     "output_type": "stream",
     "text": [
      "+--------------------+-----+\n",
      "|     Ignition_Source|count|\n",
      "+--------------------+-----+\n",
      "|Matches or Lighte...|   75|\n",
      "|Stove, Range-top ...| 1911|\n",
      "|Open Fire (eg. ca...|   35|\n",
      "|           Flue Pipe|   29|\n",
      "|Hot Ashes, Embers...|  111|\n",
      "|Exposure, source ...|   11|\n",
      "|Chemical Processi...|    4|\n",
      "|Exposure, source ...|    6|\n",
      "|              Candle|  273|\n",
      "|Other Electrical ...|  158|\n",
      "|Central Heating/C...|   75|\n",
      "|Exposure, source ...|    6|\n",
      "|Lamp (eg. coal, o...|    6|\n",
      "|      Deep Fat Fryer|   95|\n",
      "|Electric Blanket,...|    2|\n",
      "|Air Conditioner -...|   15|\n",
      "|Circuit Wiring - ...|  267|\n",
      "|Florescent Lamp (...|   33|\n",
      "|Other Heating Equ...|   65|\n",
      "|  Wood burning stove|   87|\n",
      "|                Oven|  432|\n",
      "|          Range Hood|   54|\n",
      "|           Lightning|   12|\n",
      "|               Meter|    9|\n",
      "|Exposure, source ...|   15|\n",
      "|    Other Electrical|  163|\n",
      "|        Water Heater|   23|\n",
      "|Other Open Flame ...|  131|\n",
      "|Halogen Lamp or l...|   22|\n",
      "|Chimney - Factory...|    9|\n",
      "|Space Heater - Po...|   60|\n",
      "|Exposure, source ...|    4|\n",
      "|Service/Utility L...|   99|\n",
      "|   Vehicle collision|    3|\n",
      "|Television, Radio...|   36|\n",
      "|Circuit Wiring - ...|    9|\n",
      "|Other Cooking Ite...|  152|\n",
      "|               Other|  194|\n",
      "|Exposure, source ...|    4|\n",
      "|Outdoor fireplace...|   12|\n",
      "|Fireplace - Facto...|   12|\n",
      "|   Chimney - Masonry|   11|\n",
      "|Terminations-Copp...|   96|\n",
      "|         Transformer|   57|\n",
      "|  Painting Equipment|   13|\n",
      "|Static Electricit...|    7|\n",
      "| Under Investigation|   10|\n",
      "|Terminations-Alum...|    6|\n",
      "|Other Processing ...|   61|\n",
      "|Christmas Lights,...|    5|\n",
      "|           Microwave|   45|\n",
      "|Cord, Cable for A...|  202|\n",
      "|Matches (open flame)|   44|\n",
      "|    Other Mechanical|   93|\n",
      "| Fireplace - Masonry|  109|\n",
      "|Cutting/Welding E...|  181|\n",
      "|Other Lighting Eq...|   34|\n",
      "|          Salamander|    2|\n",
      "|Lighters (open fl...|   69|\n",
      "|Distribution Equi...|  127|\n",
      "|Chemical Reaction...|   99|\n",
      "|       Clothes Dryer|  297|\n",
      "|    Other Appliances|  106|\n",
      "|            Rekindle|    9|\n",
      "|Blow Torch, Bunse...|  203|\n",
      "|Multiple Ignition...|   10|\n",
      "|Space Heater - Fixed|   45|\n",
      "|Smoker's Articles...| 1353|\n",
      "|     Washing Machine|   15|\n",
      "|Refrigerator, Fre...|   37|\n",
      "|  Portable generator|    9|\n",
      "|Vehicle - Electrical|  152|\n",
      "|Extension Cord, T...|   91|\n",
      "|Vehicle - Mechanical|   79|\n",
      "|        Undetermined| 2461|\n",
      "|Iron, Pressing Ma...|    6|\n",
      "|           Fireworks|   17|\n",
      "|Open Fired Barbeq...|  143|\n",
      "|    Fireplace Insert|   20|\n",
      "|Incandescent Lamp...|   94|\n",
      "|Heat Treatment Eq...|   42|\n",
      "|         Incinerator|    2|\n",
      "+--------------------+-----+\n",
      "\n"
     ]
    }
   ],
   "source": [
    "# fire_incidents.select(fire_incidents.Ignition_Source).distinct().show(truncate=False, n=100)\n",
    "fire_incidents = fire_incidents.na.drop()\n",
    "fire_incidents.groupBy(\"Ignition_Source\").count().show(100)"
   ]
  },
  {
   "cell_type": "code",
   "execution_count": null,
   "metadata": {},
   "outputs": [],
   "source": []
  }
 ],
 "metadata": {
  "kernelspec": {
   "display_name": "Python 3",
   "language": "python",
   "name": "python3"
  },
  "language_info": {
   "codemirror_mode": {
    "name": "ipython",
    "version": 3
   },
   "file_extension": ".py",
   "mimetype": "text/x-python",
   "name": "python",
   "nbconvert_exporter": "python",
   "pygments_lexer": "ipython3",
   "version": "3.11.1"
  }
 },
 "nbformat": 4,
 "nbformat_minor": 2
}
