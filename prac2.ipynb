{
 "cells": [
  {
   "cell_type": "code",
   "execution_count": 3,
   "metadata": {},
   "outputs": [
    {
     "data": {
      "text/html": [
       "\n",
       "            <div>\n",
       "                <p><b>SparkSession - in-memory</b></p>\n",
       "                \n",
       "        <div>\n",
       "            <p><b>SparkContext</b></p>\n",
       "\n",
       "            <p><a href=\"http://no-elvo:4043\">Spark UI</a></p>\n",
       "\n",
       "            <dl>\n",
       "              <dt>Version</dt>\n",
       "                <dd><code>v3.5.1</code></dd>\n",
       "              <dt>Master</dt>\n",
       "                <dd><code>local[*]</code></dd>\n",
       "              <dt>AppName</dt>\n",
       "                <dd><code>Practice2</code></dd>\n",
       "            </dl>\n",
       "        </div>\n",
       "        \n",
       "            </div>\n",
       "        "
      ],
      "text/plain": [
       "<pyspark.sql.session.SparkSession at 0x1d3ca856a90>"
      ]
     },
     "execution_count": 3,
     "metadata": {},
     "output_type": "execute_result"
    }
   ],
   "source": [
    "from pyspark.sql import SparkSession\n",
    "spark = SparkSession.builder.appName(\"Practice2\").getOrCreate()\n",
    "spark"
   ]
  },
  {
   "cell_type": "code",
   "execution_count": 4,
   "metadata": {},
   "outputs": [
    {
     "name": "stdout",
     "output_type": "stream",
     "text": [
      "Init Dataframe 23408\n",
      "Drop NULL Value (any) 9145\n",
      "Drop NULL Value (all) 23408\n",
      "Drop NULL Value (any) with threshold 1 NULL value 23366\n",
      "Drop NULL value (any) on Long_DD & UnitCode Cols 23408\n",
      "Fill NULL Value with 0 Value 23408\n"
     ]
    }
   ],
   "source": [
    "fire_occurence = spark.read.csv('FireOccurence.data.csv', header=True, inferSchema=True)\n",
    "print(\"Init Dataframe\",fire_occurence.count())\n",
    "\n",
    "print(\"Drop NULL Value (any)\",fire_occurence.na.drop(how=\"any\").count())\n",
    "print(\"Drop NULL Value (all)\",fire_occurence.na.drop(how=\"all\").count())\n",
    "print(\"Drop NULL Value (any) with threshold 1 NULL value\",fire_occurence.na.drop(how=\"any\", thresh=37).count())\n",
    "print(\"Drop NULL value (any) on Long_DD & UnitCode Cols\", fire_occurence.na.drop(subset=[\"Long_DD\", \"UnitCode\"]).count())\n",
    "\n",
    "print(\"Fill NULL Value with 0 Value\",fire_occurence.na.fill(0, \"Protected_Acres\").count())"
   ]
  },
  {
   "cell_type": "code",
   "execution_count": 5,
   "metadata": {},
   "outputs": [
    {
     "ename": "AnalysisException",
     "evalue": "[PATH_NOT_FOUND] Path does not exist: file:/c:/Users/Mifta/OneDrive/Documents/vscode/pyspark/fire-occurence.csv.",
     "output_type": "error",
     "traceback": [
      "\u001b[1;31m---------------------------------------------------------------------------\u001b[0m",
      "\u001b[1;31mAnalysisException\u001b[0m                         Traceback (most recent call last)",
      "Cell \u001b[1;32mIn[5], line 2\u001b[0m\n\u001b[0;32m      1\u001b[0m \u001b[38;5;28;01mfrom\u001b[39;00m \u001b[38;5;21;01mpyspark\u001b[39;00m\u001b[38;5;21;01m.\u001b[39;00m\u001b[38;5;21;01mml\u001b[39;00m\u001b[38;5;21;01m.\u001b[39;00m\u001b[38;5;21;01mfeature\u001b[39;00m \u001b[38;5;28;01mimport\u001b[39;00m Imputer\n\u001b[1;32m----> 2\u001b[0m fire_occurence \u001b[38;5;241m=\u001b[39m \u001b[43mspark\u001b[49m\u001b[38;5;241;43m.\u001b[39;49m\u001b[43mread\u001b[49m\u001b[38;5;241;43m.\u001b[39;49m\u001b[43mcsv\u001b[49m\u001b[43m(\u001b[49m\u001b[38;5;124;43m'\u001b[39;49m\u001b[38;5;124;43mfire-occurence.csv\u001b[39;49m\u001b[38;5;124;43m'\u001b[39;49m\u001b[43m,\u001b[49m\u001b[43m \u001b[49m\u001b[43mheader\u001b[49m\u001b[38;5;241;43m=\u001b[39;49m\u001b[38;5;28;43;01mTrue\u001b[39;49;00m\u001b[43m,\u001b[49m\u001b[43m \u001b[49m\u001b[43minferSchema\u001b[49m\u001b[38;5;241;43m=\u001b[39;49m\u001b[38;5;28;43;01mTrue\u001b[39;49;00m\u001b[43m)\u001b[49m\n\u001b[0;32m      4\u001b[0m imputer \u001b[38;5;241m=\u001b[39m Imputer(\n\u001b[0;32m      5\u001b[0m     inputCols\u001b[38;5;241m=\u001b[39m[\u001b[38;5;124m'\u001b[39m\u001b[38;5;124mLong_DD\u001b[39m\u001b[38;5;124m'\u001b[39m, \u001b[38;5;124m\"\u001b[39m\u001b[38;5;124mUnitCode\u001b[39m\u001b[38;5;124m\"\u001b[39m],\n\u001b[0;32m      6\u001b[0m     outputCols\u001b[38;5;241m=\u001b[39m[\u001b[38;5;124m\"\u001b[39m\u001b[38;5;132;01m{}\u001b[39;00m\u001b[38;5;124m_imputed\u001b[39m\u001b[38;5;124m\"\u001b[39m\u001b[38;5;241m.\u001b[39mformat(c) \u001b[38;5;28;01mfor\u001b[39;00m c \u001b[38;5;129;01min\u001b[39;00m [\u001b[38;5;124m'\u001b[39m\u001b[38;5;124mLong_DD\u001b[39m\u001b[38;5;124m'\u001b[39m, \u001b[38;5;124m\"\u001b[39m\u001b[38;5;124mUnitCode\u001b[39m\u001b[38;5;124m\"\u001b[39m]]\n\u001b[0;32m      7\u001b[0m )\u001b[38;5;241m.\u001b[39msetStrategy(\u001b[38;5;124m\"\u001b[39m\u001b[38;5;124mmean\u001b[39m\u001b[38;5;124m\"\u001b[39m)\n",
      "File \u001b[1;32mc:\\Users\\Mifta\\AppData\\Local\\Programs\\Python\\Python311\\Lib\\site-packages\\pyspark\\sql\\readwriter.py:740\u001b[0m, in \u001b[0;36mDataFrameReader.csv\u001b[1;34m(self, path, schema, sep, encoding, quote, escape, comment, header, inferSchema, ignoreLeadingWhiteSpace, ignoreTrailingWhiteSpace, nullValue, nanValue, positiveInf, negativeInf, dateFormat, timestampFormat, maxColumns, maxCharsPerColumn, maxMalformedLogPerPartition, mode, columnNameOfCorruptRecord, multiLine, charToEscapeQuoteEscaping, samplingRatio, enforceSchema, emptyValue, locale, lineSep, pathGlobFilter, recursiveFileLookup, modifiedBefore, modifiedAfter, unescapedQuoteHandling)\u001b[0m\n\u001b[0;32m    738\u001b[0m \u001b[38;5;28;01mif\u001b[39;00m \u001b[38;5;28mtype\u001b[39m(path) \u001b[38;5;241m==\u001b[39m \u001b[38;5;28mlist\u001b[39m:\n\u001b[0;32m    739\u001b[0m     \u001b[38;5;28;01massert\u001b[39;00m \u001b[38;5;28mself\u001b[39m\u001b[38;5;241m.\u001b[39m_spark\u001b[38;5;241m.\u001b[39m_sc\u001b[38;5;241m.\u001b[39m_jvm \u001b[38;5;129;01mis\u001b[39;00m \u001b[38;5;129;01mnot\u001b[39;00m \u001b[38;5;28;01mNone\u001b[39;00m\n\u001b[1;32m--> 740\u001b[0m     \u001b[38;5;28;01mreturn\u001b[39;00m \u001b[38;5;28mself\u001b[39m\u001b[38;5;241m.\u001b[39m_df(\u001b[38;5;28;43mself\u001b[39;49m\u001b[38;5;241;43m.\u001b[39;49m\u001b[43m_jreader\u001b[49m\u001b[38;5;241;43m.\u001b[39;49m\u001b[43mcsv\u001b[49m\u001b[43m(\u001b[49m\u001b[38;5;28;43mself\u001b[39;49m\u001b[38;5;241;43m.\u001b[39;49m\u001b[43m_spark\u001b[49m\u001b[38;5;241;43m.\u001b[39;49m\u001b[43m_sc\u001b[49m\u001b[38;5;241;43m.\u001b[39;49m\u001b[43m_jvm\u001b[49m\u001b[38;5;241;43m.\u001b[39;49m\u001b[43mPythonUtils\u001b[49m\u001b[38;5;241;43m.\u001b[39;49m\u001b[43mtoSeq\u001b[49m\u001b[43m(\u001b[49m\u001b[43mpath\u001b[49m\u001b[43m)\u001b[49m\u001b[43m)\u001b[49m)\n\u001b[0;32m    741\u001b[0m \u001b[38;5;28;01melif\u001b[39;00m \u001b[38;5;28misinstance\u001b[39m(path, RDD):\n\u001b[0;32m    743\u001b[0m     \u001b[38;5;28;01mdef\u001b[39;00m \u001b[38;5;21mfunc\u001b[39m(iterator):\n",
      "File \u001b[1;32mc:\\Users\\Mifta\\AppData\\Local\\Programs\\Python\\Python311\\Lib\\site-packages\\py4j\\java_gateway.py:1322\u001b[0m, in \u001b[0;36mJavaMember.__call__\u001b[1;34m(self, *args)\u001b[0m\n\u001b[0;32m   1316\u001b[0m command \u001b[38;5;241m=\u001b[39m proto\u001b[38;5;241m.\u001b[39mCALL_COMMAND_NAME \u001b[38;5;241m+\u001b[39m\\\n\u001b[0;32m   1317\u001b[0m     \u001b[38;5;28mself\u001b[39m\u001b[38;5;241m.\u001b[39mcommand_header \u001b[38;5;241m+\u001b[39m\\\n\u001b[0;32m   1318\u001b[0m     args_command \u001b[38;5;241m+\u001b[39m\\\n\u001b[0;32m   1319\u001b[0m     proto\u001b[38;5;241m.\u001b[39mEND_COMMAND_PART\n\u001b[0;32m   1321\u001b[0m answer \u001b[38;5;241m=\u001b[39m \u001b[38;5;28mself\u001b[39m\u001b[38;5;241m.\u001b[39mgateway_client\u001b[38;5;241m.\u001b[39msend_command(command)\n\u001b[1;32m-> 1322\u001b[0m return_value \u001b[38;5;241m=\u001b[39m \u001b[43mget_return_value\u001b[49m\u001b[43m(\u001b[49m\n\u001b[0;32m   1323\u001b[0m \u001b[43m    \u001b[49m\u001b[43manswer\u001b[49m\u001b[43m,\u001b[49m\u001b[43m \u001b[49m\u001b[38;5;28;43mself\u001b[39;49m\u001b[38;5;241;43m.\u001b[39;49m\u001b[43mgateway_client\u001b[49m\u001b[43m,\u001b[49m\u001b[43m \u001b[49m\u001b[38;5;28;43mself\u001b[39;49m\u001b[38;5;241;43m.\u001b[39;49m\u001b[43mtarget_id\u001b[49m\u001b[43m,\u001b[49m\u001b[43m \u001b[49m\u001b[38;5;28;43mself\u001b[39;49m\u001b[38;5;241;43m.\u001b[39;49m\u001b[43mname\u001b[49m\u001b[43m)\u001b[49m\n\u001b[0;32m   1325\u001b[0m \u001b[38;5;28;01mfor\u001b[39;00m temp_arg \u001b[38;5;129;01min\u001b[39;00m temp_args:\n\u001b[0;32m   1326\u001b[0m     \u001b[38;5;28;01mif\u001b[39;00m \u001b[38;5;28mhasattr\u001b[39m(temp_arg, \u001b[38;5;124m\"\u001b[39m\u001b[38;5;124m_detach\u001b[39m\u001b[38;5;124m\"\u001b[39m):\n",
      "File \u001b[1;32mc:\\Users\\Mifta\\AppData\\Local\\Programs\\Python\\Python311\\Lib\\site-packages\\pyspark\\errors\\exceptions\\captured.py:185\u001b[0m, in \u001b[0;36mcapture_sql_exception.<locals>.deco\u001b[1;34m(*a, **kw)\u001b[0m\n\u001b[0;32m    181\u001b[0m converted \u001b[38;5;241m=\u001b[39m convert_exception(e\u001b[38;5;241m.\u001b[39mjava_exception)\n\u001b[0;32m    182\u001b[0m \u001b[38;5;28;01mif\u001b[39;00m \u001b[38;5;129;01mnot\u001b[39;00m \u001b[38;5;28misinstance\u001b[39m(converted, UnknownException):\n\u001b[0;32m    183\u001b[0m     \u001b[38;5;66;03m# Hide where the exception came from that shows a non-Pythonic\u001b[39;00m\n\u001b[0;32m    184\u001b[0m     \u001b[38;5;66;03m# JVM exception message.\u001b[39;00m\n\u001b[1;32m--> 185\u001b[0m     \u001b[38;5;28;01mraise\u001b[39;00m converted \u001b[38;5;28;01mfrom\u001b[39;00m \u001b[38;5;28mNone\u001b[39m\n\u001b[0;32m    186\u001b[0m \u001b[38;5;28;01melse\u001b[39;00m:\n\u001b[0;32m    187\u001b[0m     \u001b[38;5;28;01mraise\u001b[39;00m\n",
      "\u001b[1;31mAnalysisException\u001b[0m: [PATH_NOT_FOUND] Path does not exist: file:/c:/Users/Mifta/OneDrive/Documents/vscode/pyspark/fire-occurence.csv."
     ]
    }
   ],
   "source": [
    "from pyspark.ml.feature import Imputer\n",
    "fire_occurence = spark.read.csv('fire-occurence.csv', header=True, inferSchema=True)\n",
    "\n",
    "imputer = Imputer(\n",
    "    inputCols=['Long_DD', \"UnitCode\"],\n",
    "    outputCols=[\"{}_imputed\".format(c) for c in ['Long_DD', \"UnitCode\"]]\n",
    ").setStrategy(\"mean\")"
   ]
  },
  {
   "cell_type": "code",
   "execution_count": null,
   "metadata": {},
   "outputs": [
    {
     "name": "stdout",
     "output_type": "stream",
     "text": [
      "+------+------------+--------+----+--------------------+-------------+--------------+--------------------+----------+-------------+---------------+----------------+---------------+--------------+--------------------+--------------------+--------+----------+--------------------+-----------------+---+----+---+------+--------------------+---------+----------+--------------------+----------------------+--------------------+--------------------+--------------------+--------------------+--------------------+--------------------+------------+--------+--------------+---------------+----------------+\n",
      "|Serial|FireCategory|FireYear|Area|        DistrictName|     UnitName|FullFireNumber|            FireName|Size_class|EstTotalAcres|Protected_Acres|HumanOrLightning|        CauseBy|  GeneralCause|       SpecificCause|      Cause_Comments|  Lat_DD|   Long_DD|           LatLongDD|   FO_LandOwnType|Twn| Rng|Sec|Subdiv|    LandmarkLocation|   County|RegUseZone|   RegUseRestriction|Industrial_Restriction|        Ign_DateTime|      ReportDateTime|   Discover_DateTime|    Control_DateTime|        CreationDate|        ModifiedDate|DistrictCode|UnitCode|DistFireNumber|Long_DD_imputed|UnitCode_imputed|\n",
      "+------+------------+--------+----+--------------------+-------------+--------------+--------------------+----------+-------------+---------------+----------------+---------------+--------------+--------------------+--------------------+--------+----------+--------------------+-----------------+---+----+---+------+--------------------+---------+----------+--------------------+----------------------+--------------------+--------------------+--------------------+--------------------+--------------------+--------------------+------------+--------+--------------+---------------+----------------+\n",
      "| 58256|        STAT|    2000| EOA|      Central Oregon|     John Day|  00-952011-01|        Slick Ear #2|         B|         0.75|           0.75|       Lightning|      Lightning|     Lightning|           Lightning|                NULL|44.91519|-119.28863|POINT (-119.28863...|              BLM|07S| 29E| 31|  NESW|  11 MI SE Ritter LO|    Grant|       EC2|     Reg Use Closure|  Does Not Apply - ...|07/18/2000 07:00:...|07/19/2000 01:20:...|07/19/2000 01:15:...|07/20/2000 12:50:...|07/20/2000 09:13:...|11/14/2000 09:16:...|          95|     952|           011|     -119.28863|             952|\n",
      "| 59312|        STAT|    2000| EOA|    Northeast Oregon|    La Grande|  00-971024-01|             Woodley|         C|           80|             80|       Lightning|      Lightning|     Lightning|           Lightning|                NULL|45.08509| -118.3344|POINT (-118.3344 ...|    Other Private|05S| 36E| 32|  NESW|         Woodley C.G|    Union|       NE3|     Reg Use Closure|  Does Not Apply - ...|08/24/2000 05:30:...|08/24/2000 01:07:...|08/24/2000 01:07:...|09/01/2000 09:30:...|08/29/2000 03:59:...|12/21/2000 04:22:...|          97|     971|           024|      -118.3344|             971|\n",
      "| 61657|        STAT|    2001| SOA|    Southwest Oregon|  Grants Pass|  01-712133-02|       QUEENS BRANCH|         A|          0.1|            0.1|           Human|       Motorist|       Smoking|Other - Smoker Re...|                NULL|42.53671|-123.21215|POINT (-123.21215...|              BLM|35S| 04W|  7|  SESE|     7 N ROGUE RIVER|  Jackson|       SW3|     Reg Use Closure|  Lvl 3 Restricted ...|08/10/2001 05:40:...|08/10/2001 05:47:...|08/10/2001 05:45:...|08/10/2001 06:30:...|08/10/2001 06:42:...|08/17/2001 11:45:...|          71|     712|           133|     -123.21215|             712|\n",
      "| 63735|        STAT|    2002| NOA|         West Oregon|    Philomath|  02-551001-03|                WREN|         A|         0.01|           0.01|           Human|       Motorist|    Recreation|           Fireworks|                NULL|44.58709|-123.42779|POINT (-123.42779...|            State|11S| 06W| 28|  SENW|        Kings Valley|   Benton|       W01|Closed Fire Seaso...|  Lvl 1 Fire Season...|07/06/2002 01:01:...|07/06/2002 01:04:...|07/06/2002 01:02:...|07/06/2002 01:07:...|07/07/2002 09:16:...|07/28/2002 10:08:...|          55|     551|           001|     -123.42779|             551|\n",
      "| 68019|        STAT|    2003| NOA|         West Oregon|       Dallas|  03-552013-04|        Ritner Creek|         A|         0.01|           0.01|       Lightning|      Lightning|     Lightning|           Lightning|                NULL|44.74026|-123.49811|POINT (-123.49811...|       Industrial|09S| 07W| 36|  SWSW|   Ritner Creek Park|     Polk|       WO1|     Reg Use Closure|  Lvl 3 Restricted ...|08/22/2003 04:00:...|08/22/2003 05:00:...|08/22/2003 05:00:...|08/22/2003 09:30:...|08/22/2003 04:12:...|09/04/2003 09:39:...|          55|     552|           013|     -123.49811|             552|\n",
      "| 68067|        STAT|    2003| EOA|    Northeast Oregon|      Wallowa|  03-974016-04|        Big Tamarack|         A|         0.01|           0.01|       Lightning|      Lightning|     Lightning|           Lightning|                NULL|45.63942|-117.40483|POINT (-117.40483...|       Industrial|02N| 43E| 23|  NWSE|          Tope Creek|  Wallowa|       NE2|     Reg Use Closure|  Does Not Apply - ...|08/22/2003 06:00:...|08/23/2003 09:24:...|08/23/2003 09:24:...|08/23/2003 12:40:...|08/25/2003 02:16:...|09/16/2004 03:07:...|          97|     974|           016|     -117.40483|             974|\n",
      "| 68224|        STAT|    2003| EOA|Walker Range - WRFPA|     Crescent|  03-991228-04|           COIDC 918|         A|            0|              0|           Human|   Other-Public|Debris Burning|Other - Burning R...|                NULL|43.52418|-121.95545|POINT (-121.95545...|Rural Residential|24S| 06E|  1|  SENW|      12 W GILCHRIST|  Klamath|       WC2|     Reg Use Closure|  Does Not Apply - ...|08/30/2003 02:20:...|08/30/2003 02:37:...|08/30/2003 02:30:...|08/30/2003 02:41:...|09/01/2003 03:24:...|09/12/2003 03:43:...|          99|     991|           228|     -121.95545|             991|\n",
      "| 73454|        STAT|    2005| NOA|             Astoria|      Astoria|  05-521027-06|        RAYMOND ROAD|         A|         0.01|           0.01|           Human| Public Utility| Equipment Use|Powerlines - prio...|                NULL| 46.0765|-123.70566|POINT (-123.70566...|Rural Residential|07N| 08W| 17|  SESW|      HWY 202, MP 12|  Clatsop|       NW2|     Reg Use Closure|  Lvl 1 Fire Season...|09/18/2005 03:00:...|09/18/2005 03:20:...|09/18/2005 03:05:...|09/18/2005 04:30:...|09/21/2005 10:41:...|09/25/2005 01:42:...|          52|     521|           027|     -123.70566|             521|\n",
      "| 73079|        STAT|    2005| EOA|        Klamath-Lake|      Klamath|  05-981072-06|               BLISS|         A|         0.01|           0.01|           Human|       Motorist| Miscellaneous|Other - Miscellan...|                NULL| 42.3795|-121.53266|POINT (-121.53266...|    Other Private|37S|11VE|  9|  SWNE|            BLISS RD|  Klamath|       KF1|     Reg Use Closure|  Does Not Apply - ...|08/26/2005 11:00:...|08/26/2005 11:29:...|08/26/2005 11:20:...|08/26/2005 11:55:...|08/29/2005 12:20:...|12/09/2005 09:50:...|          98|     981|           072|     -121.53266|             981|\n",
      "| 77514|        STAT|    2007| NOA|             Astoria|      Astoria|  07-521047-07|        North Canine|         B|            3|              3|           Human|  Recreationist|    Recreation|           Fireworks|                NULL|46.07361|-123.68083|POINT (-123.68083...|       Industrial|07N| 08W| 21|  NWSE|        7N 8W sec 21|  Clatsop|       NW1|     Reg Use Closure|  Lvl 1 Fire Season...|06/23/2007 12:00:...|06/23/2007 05:47:...|06/23/2007 05:45:...|06/23/2007 11:00:...|06/27/2007 10:29:...|08/06/2007 11:39:...|          52|     521|           047|     -123.68083|             521|\n",
      "| 79331|        STAT|    2007| EOA|        Klamath-Lake|      Klamath|  07-981114-08|          LONG CREEK|         A|          0.1|            0.1|       Lightning|      Lightning|     Lightning|           Lightning|                NULL|42.80436|-121.20103|POINT (-121.20103...|       Industrial|32S| 13E| 17|  NWNE|                NULL|  Klamath|       KF1|     Reg Use Closure|  Does Not Apply - ...|09/01/2007 02:00:...|09/01/2007 02:25:...|09/01/2007 02:25:...|09/01/2007 03:00:...|09/03/2007 12:00:...|09/18/2007 10:56:...|          98|     981|           114|     -121.20103|             981|\n",
      "| 83259|        STAT|    2008| SOA|    Southwest Oregon|      Medford|  08-711147-09|7498 Upper Applegate|         A|         0.01|           0.01|           Human|Ruralist-Paying| Miscellaneous|Hot Ashes (Dumpin...|Dumping of Woodst...|42.14361|-123.07278|POINT (-123.07278...|              BLM|39S| 03W| 28|  SWSW|13 Mi SW of Jacks...|  Jackson|       SW2|Outside Closed Fi...|  Outside Closed Fi...|10/26/2008 11:45:...|10/26/2008 12:01:...|10/26/2008 12:00:...|10/26/2008 12:30:...|10/27/2008 12:00:...|10/28/2008 01:49:...|          71|     711|           147|     -123.07278|             711|\n",
      "| 82007|        STAT|    2008| SOA|      Douglas - DFPA|   DFPA North|  08-731091-09|            Mehl Cr.|         B|          1.5|            1.5|       Lightning|      Lightning|     Lightning|           Lightning|                NULL|43.56694|-123.58361|POINT (-123.58361...|  Small Woodlands|23S| 08W| 12|  NWSW|  Smith Ferry Rapids|  Douglas|       DG1|     Reg Use Closure|  Lvl 3 Restricted ...|08/17/2008 09:00:...|08/17/2008 09:15:...|08/17/2008 09:10:...|08/18/2008 03:00:...|08/19/2008 12:00:...|08/27/2008 03:21:...|          73|     731|           091|     -123.58361|             731|\n",
      "| 83081|        STAT|    2008| EOA|    Northeast Oregon|      Wallowa|  08-974027-09|              Corkey|         A|         0.01|           0.01|           Human|         Hunter| Miscellaneous|        Warming Fire|                NULL|   45.68|  -117.715|POINT (-117.715 4...|       Industrial|02N| 41E|  5|  NENE|                NULL|  Wallowa|       NE2|Closed Fire Seaso...|  Lvl 1 Fire Season...|10/05/2008 06:30:...|10/05/2008 12:04:...|10/05/2008 11:30:...|10/05/2008 01:46:...|10/06/2008 12:00:...|10/19/2008 07:27:...|          97|     974|           027|       -117.715|             974|\n",
      "| 85296|        STAT|    2009| SOA|    Southwest Oregon|  Grants Pass|  09-712231-10|           I-5 MP 75|         A|          0.1|            0.1|           Human|       Motorist| Equipment Use|Carbon Sparks fro...|                NULL|42.68111|  -123.385|POINT (-123.385 4...|            State|33S| 06W| 23|  SWSW|    4 SW of Glendale|Josephine|       SW3|     Reg Use Closure|  Lvl 3 Restricted ...|09/03/2009 03:30:...|09/03/2009 03:40:...|09/03/2009 03:40:...|09/06/2009 12:55:...|09/03/2009 12:00:...|09/10/2009 05:43:...|          71|     712|           231|       -123.385|             712|\n",
      "| 84592|        STAT|    2009| SOA|      Douglas - DFPA|   DFPA South|  09-732058-10|         Boomer Hill|         A|         0.25|           0.25|       Lightning|      Lightning|     Lightning|           Lightning|                NULL|42.97972|-123.41917|POINT (-123.41917...|              BLM|30S| 06W|  9|  SENW|         Boomer Hill|  Douglas|       DG1|     Reg Use Closure|  Lvl 3 Restricted ...|08/01/2009 07:55:...|08/01/2009 07:59:...|08/01/2009 07:58:...|08/02/2009 09:00:...|08/04/2009 12:00:...|08/04/2009 06:31:...|          73|     732|           058|     -123.41917|             732|\n",
      "| 85444|        STAT|    2009| SOA|      Douglas - DFPA| DFPA Central|  09-733128-10|         Kelly Creek|         A|         0.01|           0.01|       Lightning|      Lightning|     Lightning|           Lightning|                NULL|43.40556| -123.0025|POINT (-123.0025 ...|       Industrial|25S| 03W| 12|  SESW|                NULL|  Douglas|       DG1|     Reg Use Closure|  Lvl 1 Fire Season...|09/13/2009 02:00:...|09/13/2009 07:28:...|09/13/2009 07:28:...|09/13/2009 08:30:...|09/13/2009 12:00:...|09/24/2009 12:34:...|          73|     733|           128|      -123.0025|             733|\n",
      "| 84987|        STAT|    2009| SOA|       South Cascade| Eastern Lane|  09-771076-10|     Pengra Car Fire|         A|          0.1|            0.1|           Human|       Motorist| Equipment Use|Burning Vehicle o...|Car fire that spr...|43.92972|-122.80972|POINT (-122.80972...|       Industrial|19S| 01W|  9|  NESE| Pengra Boat Landing|     Lane|       EL1|     Reg Use Closure|  Lvl 2 Limited Shu...|08/17/2009 11:48:...|08/17/2009 11:52:...|08/17/2009 11:50:...|08/17/2009 12:16:...|08/17/2009 12:00:...|10/06/2009 02:10:...|          77|     771|           076|     -122.80972|             771|\n",
      "| 85531|        STAT|    2009| SOA|       South Cascade|   Sweet Home|  09-772092-10|              GP 632|         A|         0.01|           0.01|       Lightning|      Lightning|     Lightning|           Lightning|    Lightning strike|44.47194|-122.61111|POINT (-122.61111...|       Industrial|13S| 02E|  6|  NENW|5 miles NE of Swe...|     Linn|       LN1|     Reg Use Closure|  Lvl 1 Fire Season...|07/12/2009 07:00:...|07/15/2009 05:30:...|07/15/2009 05:30:...|07/15/2009 06:15:...|09/15/2009 12:00:...|09/28/2009 04:49:...|          77|     772|           092|     -122.61111|             772|\n",
      "| 87043|        STAT|    2010| NOA|        Forest Grove|Columbia City|  10-532014-11|       Smith Road #1|         A|         0.01|           0.01|           Human|  Recreationist|    Recreation|    Rubbish Disposal|                NULL|45.89111|-122.84972|POINT (-122.84972...|           County|05N| 01W| 30|  SENE|                NULL| Columbia|       NW3|     Reg Use Closure|  Lvl 1 Fire Season...|08/09/2010 06:00:...|08/09/2010 06:17:...|08/09/2010 06:15:...|08/09/2010 06:30:...|08/09/2010 12:00:...|08/09/2010 11:44:...|          53|     532|           014|     -122.84972|             532|\n",
      "+------+------------+--------+----+--------------------+-------------+--------------+--------------------+----------+-------------+---------------+----------------+---------------+--------------+--------------------+--------------------+--------+----------+--------------------+-----------------+---+----+---+------+--------------------+---------+----------+--------------------+----------------------+--------------------+--------------------+--------------------+--------------------+--------------------+--------------------+------------+--------+--------------+---------------+----------------+\n",
      "only showing top 20 rows\n",
      "\n"
     ]
    }
   ],
   "source": [
    "#Add Imputation cols to main Dataframe\n",
    "imputer.fit(fire_occurence).transform(fire_occurence).show()"
   ]
  }
 ],
 "metadata": {
  "kernelspec": {
   "display_name": "Python 3",
   "language": "python",
   "name": "python3"
  },
  "language_info": {
   "codemirror_mode": {
    "name": "ipython",
    "version": 3
   },
   "file_extension": ".py",
   "mimetype": "text/x-python",
   "name": "python",
   "nbconvert_exporter": "python",
   "pygments_lexer": "ipython3",
   "version": "3.11.1"
  }
 },
 "nbformat": 4,
 "nbformat_minor": 2
}
