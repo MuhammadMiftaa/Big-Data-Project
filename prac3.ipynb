{
 "cells": [
  {
   "cell_type": "code",
   "execution_count": 7,
   "metadata": {},
   "outputs": [
    {
     "data": {
      "text/plain": [
       "DataFrame[_id: string, Serial: int, FireCategory: string, FireYear: int, Area: string, DistrictName: string, UnitName: string, FullFireNumber: string, FireName: string, Size_class: string, EstTotalAcres: double, Protected_Acres: double, HumanOrLightning: string, CauseBy: string, GeneralCause: string, SpecificCause: string, Cause_Comments: string, Lat_DD: string, Long_DD: double, LatLongDD: string, FO_LandOwnType: string, Twn: string, Rng: string, Sec: string, Subdiv: string, LandmarkLocation: string, County: string, RegUseZone: string, RegUseRestriction: string, Industrial_Restriction: string, Ign_DateTime: string, ReportDateTime: string, Discover_DateTime: string, Control_DateTime: string, CreationDate: string, ModifiedDate: string, DistrictCode: string, UnitCode: int, DistFireNumber: string]"
      ]
     },
     "execution_count": 7,
     "metadata": {},
     "output_type": "execute_result"
    }
   ],
   "source": [
    "from pyspark.sql import SparkSession\n",
    "from pyspark.sql import functions as F\n",
    "\n",
    "spark = SparkSession.builder.master(\"local[*]\").appName(\"Practice3\").getOrCreate()\n",
    "fire_occurence = spark.read.csv(\"FireOccurence.data.csv\", header=True, inferSchema=True)\n",
    "fire_occurence"
   ]
  },
  {
   "cell_type": "code",
   "execution_count": 8,
   "metadata": {},
   "outputs": [
    {
     "name": "stdout",
     "output_type": "stream",
     "text": [
      "+--------------------+\n",
      "|   Discover_DateTime|\n",
      "+--------------------+\n",
      "|08/22/2003 05:00:...|\n",
      "|08/23/2003 09:24:...|\n",
      "|08/30/2003 02:30:...|\n",
      "|10/29/2003 01:29:...|\n",
      "|09/07/2003 06:06:...|\n",
      "|07/17/2003 10:15:...|\n",
      "|07/22/2003 12:24:...|\n",
      "|07/01/2003 12:03:...|\n",
      "|08/26/2003 02:20:...|\n",
      "|07/22/2003 01:50:...|\n",
      "|07/05/2003 01:15:...|\n",
      "|07/10/2003 08:30:...|\n",
      "|07/23/2003 09:25:...|\n",
      "|09/30/2003 05:40:...|\n",
      "|08/22/2003 01:30:...|\n",
      "|10/18/2003 11:30:...|\n",
      "|08/03/2003 02:00:...|\n",
      "|07/12/2003 02:00:...|\n",
      "|08/28/2003 12:00:...|\n",
      "|10/26/2003 12:15:...|\n",
      "+--------------------+\n",
      "only showing top 20 rows\n",
      "\n"
     ]
    }
   ],
   "source": [
    "fire_occurence.filter((fire_occurence.FireYear>2002) & (fire_occurence.FireYear<2004)).select(\"Discover_DateTime\").show()"
   ]
  },
  {
   "cell_type": "code",
   "execution_count": 9,
   "metadata": {},
   "outputs": [
    {
     "name": "stdout",
     "output_type": "stream",
     "text": [
      "+-------------+--------------------+\n",
      "|min(FireYear)|sum(Protected_Acres)|\n",
      "+-------------+--------------------+\n",
      "|         2000|  1383333.2000000186|\n",
      "+-------------+--------------------+\n",
      "\n"
     ]
    }
   ],
   "source": [
    "fire_occurence.agg({\"FireYear\": \"min\", \"Protected_Acres\": \"sum\"}).show()"
   ]
  },
  {
   "cell_type": "code",
   "execution_count": 10,
   "metadata": {},
   "outputs": [
    {
     "name": "stdout",
     "output_type": "stream",
     "text": [
      "+-----------------+-----------------+\n",
      "|max_EstTotalAcres|avg_EstTotalAcres|\n",
      "+-----------------+-----------------+\n",
      "|         499945.0|265.2797077922052|\n",
      "+-----------------+-----------------+\n",
      "\n"
     ]
    }
   ],
   "source": [
    "fire_occurence.agg(\n",
    "    F.max(\"EstTotalAcres\").alias(\"max_EstTotalAcres\"),\n",
    "    F.avg(\"EstTotalAcres\").alias(\"avg_EstTotalAcres\")\n",
    ").show()"
   ]
  },
  {
   "cell_type": "code",
   "execution_count": 11,
   "metadata": {},
   "outputs": [
    {
     "name": "stdout",
     "output_type": "stream",
     "text": [
      "+----------------+-----+\n",
      "|HumanOrLightning|count|\n",
      "+----------------+-----+\n",
      "|       Lightning| 6249|\n",
      "|           Human|17143|\n",
      "|    Under Invest|   16|\n",
      "+----------------+-----+\n",
      "\n"
     ]
    }
   ],
   "source": [
    "fire_occurence.groupBy(\"HumanOrLightning\").count().show()"
   ]
  },
  {
   "cell_type": "code",
   "execution_count": 13,
   "metadata": {},
   "outputs": [
    {
     "name": "stdout",
     "output_type": "stream",
     "text": [
      "+----------+-----------+-------------+------------------+--------------------+------------+-------------+\n",
      "|Size_class|max(Serial)|max(FireYear)|max(EstTotalAcres)|max(Protected_Acres)|max(Long_DD)|max(UnitCode)|\n",
      "+----------+-----------+-------------+------------------+--------------------+------------+-------------+\n",
      "|         F|     131945|         2022|            4964.0|              4567.0|    42.21254|          982|\n",
      "|         E|     127900|         2021|             985.0|               985.0|  -116.87085|          991|\n",
      "|         B|     134016|         2022|              10.0|                10.0|  -116.78306|          991|\n",
      "|         D|     133991|         2022|             300.0|               290.0|  -116.82056|          991|\n",
      "|         C|     134021|         2022|             100.0|               100.0|  -116.84051|          991|\n",
      "|         A|     134014|         2022|              0.25|                 0.5|    -116.785|          991|\n",
      "|         G|     131766|         2022|          499945.0|            154570.0|  -116.52111|          982|\n",
      "+----------+-----------+-------------+------------------+--------------------+------------+-------------+\n",
      "\n"
     ]
    }
   ],
   "source": [
    "fire_occurence.groupBy(\"Size_class\").max().show()"
   ]
  }
 ],
 "metadata": {
  "kernelspec": {
   "display_name": "Python 3",
   "language": "python",
   "name": "python3"
  },
  "language_info": {
   "codemirror_mode": {
    "name": "ipython",
    "version": 3
   },
   "file_extension": ".py",
   "mimetype": "text/x-python",
   "name": "python",
   "nbconvert_exporter": "python",
   "pygments_lexer": "ipython3",
   "version": "3.11.1"
  }
 },
 "nbformat": 4,
 "nbformat_minor": 2
}
